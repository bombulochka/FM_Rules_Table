{
  "nbformat": 4,
  "nbformat_minor": 0,
  "metadata": {
    "colab": {
      "name": "Rules4Banks_OneFile_v3_0.ipynb",
      "provenance": [],
      "collapsed_sections": []
    },
    "kernelspec": {
      "name": "python3",
      "display_name": "Python 3"
    },
    "language_info": {
      "name": "python"
    }
  },
  "cells": [
    {
      "cell_type": "code",
      "execution_count": 1,
      "metadata": {
        "id": "aY2BHMjh4_8I"
      },
      "outputs": [],
      "source": [
        "import pandas as pd\n",
        "import numpy as np\n",
        "import os\n",
        "import re\n",
        "from datetime import datetime"
      ]
    },
    {
      "cell_type": "code",
      "source": [
        "# создаем список df, удаляем ненужное\n",
        "rules = list()\n",
        "for filename in os.listdir('.'):\n",
        "    if filename.endswith(\".csv\") and not filename.startswith('result'):\n",
        "        df = pd.read_csv('./' + filename, sep=';', encoding='ISO-8859-1')\n",
        "        df = df.drop(columns = ['Ãðóïïà', 'Äàòà íà÷àëà äåéñòâèÿ', 'Äàòà îêîí÷àíèÿ äåéñòâèÿ', 'Àâòîð', 'Òèï ïðàâèëà', 'Ôîðìóëà'])\n",
        "        rules.append(df)\n",
        "# если первый файл содержит слово MIR, меняем порядок\n",
        "if re.search('MIR', rules[0].to_string()) != None:\n",
        "  rules.reverse()"
      ],
      "metadata": {
        "id": "wbl5wOrJ5EJG"
      },
      "execution_count": 2,
      "outputs": []
    },
    {
      "cell_type": "code",
      "source": [
        "# переименовываем столбцы\n",
        "for df in rules:\n",
        "  df.columns = ['id', 'risk', 'desc']"
      ],
      "metadata": {
        "id": "vKKjemfy_zYH"
      },
      "execution_count": 3,
      "outputs": []
    },
    {
      "cell_type": "code",
      "source": [
        "# указываем какие правила блокирующие\n",
        "for df in rules:\n",
        "  df['desc'] = np.where((df.risk == 100), 'Блок '+ df['desc'], df['desc'])"
      ],
      "metadata": {
        "id": "yWFz4VNQAmzr"
      },
      "execution_count": 4,
      "outputs": []
    },
    {
      "cell_type": "code",
      "source": [
        "# создаем словари для импортируемых и копируемых правил, делаем понятные описания\n",
        "channels = {'AlienATM': 'Чужой АТМ', 'ATM': 'ATM', 'CHnP': 'Cardholder not present', 'CHP': 'Cardholder present', 'OwnATM': 'Свой АТМ','RiskCHnP': 'Cardholder not present Risk MCC', 'Rub': 'руб.'}\n",
        "channels = {r\"\\b{}\\b\".format(k): v for k, v in channels.items()}\n",
        "toCopy = {'2COPY Block 2xCP succes MPS': 'после 2х успешных Cardholder present', '2COPY 3xCP no PIN MPS': '3xCardholder present без ввода пин-кода', '2COPY Country change': 'Смена страны', '2COPY Fallback': '1хFallback', '2COPY Block frequent AZS': '3хЗаправка', '2COPY 3Block ruchnoy vvod': '3хРучной ввод данных', '2COPY MPS Block EPOS rost summy Risk MCC USD': 'E-POS $ Risk MCC увеличение суммы', '2COPY Block 2xCP succes MIR': 'после 2х успешных Cardholder present', '2COPY 3xCP no PIN MIR': '3xCardholder present без ввода пин-кода', '2COPY MIR Block EPOS rost summy Risk MCC USD': 'E-POS $ Risk MCC увеличение суммы', '2COPY Block EPOS rost summy Risk MCC USD': 'E-POS $ Risk MCC увеличение суммы', '2COPY Block POS': 'после 2х успешных Cardholder present', '2COPY Card present no PIN Code': '3xCardholder present без ввода пин-кода', '2COPY Block EPOS rost summy Risk MCC RUB': 'E-POS руб Risk MCC увеличение суммы'}\n",
        "toCopy = {r\"\\b{}\\b\".format(k): v for k, v in toCopy.items()}\n",
        "\n",
        "for df in rules:\n",
        "  df[\"desc\"] = df[\"desc\"].replace(channels, regex=True)\n",
        "  df[\"desc\"] = df[\"desc\"].replace(toCopy, regex=True)"
      ],
      "metadata": {
        "id": "Wxh9iMlJA0Qb"
      },
      "execution_count": 5,
      "outputs": []
    },
    {
      "cell_type": "code",
      "source": [
        "# делаем итоговую таблицу, объединяем номера правил\n",
        "if len(rules) == 2:\n",
        "  df_itog = pd.merge(rules[0], rules[1], how='inner', on = 'desc')\n",
        "  df_itog = df_itog.assign(Nomer = df_itog.id_x.astype(str) + '/' + df_itog.id_y.astype(str))\n",
        "if len(rules) == 1:\n",
        "   df_itog = rules[0]"
      ],
      "metadata": {
        "id": "UB1eQX2KBN0X"
      },
      "execution_count": 6,
      "outputs": []
    },
    {
      "cell_type": "code",
      "source": [
        "# удаляем лишнее из итоговой таблицы, причесываем, экспортируем\n",
        "if len(rules) == 2:\n",
        "  df_itog = df_itog.drop(columns = ['id_x', 'id_y', 'risk_x', 'risk_y'])\n",
        "  df_itog.columns = ['Описание', 'Номер правила']\n",
        "  df_itog = df_itog.reindex(['Номер правила', 'Описание'], axis=1)\n",
        "# ищем правила, не попавшие в итоговый список, добавляем их\n",
        "  for df in rules:\n",
        "    df_missed = df[~df['desc'].isin(df_itog['Описание'])]\n",
        "    df_missed = df_missed.drop(columns = 'risk')\n",
        "    df_missed.columns = ['Номер правила', 'Описание']\n",
        "    df_itog = pd.concat([df_itog, df_missed])\n",
        "if len(rules) == 1:\n",
        "  df_itog = df_itog.drop(columns = 'risk')\n",
        "  df_itog.columns = ['Номер правила', 'Описание']\n",
        "fileName = datetime.now().isoformat(sep='_', timespec='minutes')\n",
        "df_itog.to_csv('result_' + fileName + '.csv', sep=';', encoding='cp1251', index=False)"
      ],
      "metadata": {
        "id": "UmV-c0KKDN4l"
      },
      "execution_count": 7,
      "outputs": []
    }
  ]
}